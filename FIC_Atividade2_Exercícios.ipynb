{
  "nbformat": 4,
  "nbformat_minor": 0,
  "metadata": {
    "colab": {
      "name": "FIC-Atividade2-Exercícios.ipynb",
      "provenance": [],
      "collapsed_sections": [],
      "authorship_tag": "ABX9TyOsAiy4hnYpTnXJh78GLE3U",
      "include_colab_link": true
    },
    "kernelspec": {
      "name": "python3",
      "display_name": "Python 3"
    },
    "language_info": {
      "name": "python"
    }
  },
  "cells": [
    {
      "cell_type": "markdown",
      "metadata": {
        "id": "view-in-github",
        "colab_type": "text"
      },
      "source": [
        "<a href=\"https://colab.research.google.com/github/nascimento-luciano/Curso-FIC-Inteligencia-Artificial/blob/main/FIC_Atividade2_Exerc%C3%ADcios.ipynb\" target=\"_parent\"><img src=\"https://colab.research.google.com/assets/colab-badge.svg\" alt=\"Open In Colab\"/></a>"
      ]
    },
    {
      "cell_type": "markdown",
      "metadata": {
        "id": "yjDo9w-U_SbR"
      },
      "source": [
        "Exercício 1 - def entropia(na, nb):"
      ]
    },
    {
      "cell_type": "code",
      "metadata": {
        "id": "AtCmwI0L71N0"
      },
      "source": [
        "import math\n",
        "import pandas as pd\n",
        "from sklearn.model_selection import train_test_split\n",
        "\n",
        "def entropia(na, nb ):\n",
        "  entropia=1\n",
        "  x=na\n",
        "  y=nb\n",
        "  expression =-((x*math.log2(x,entropia)+(y*math.log(y,entropia))))    \n",
        "  print(\"expression=\", expression)\n",
        "  return entropia"
      ],
      "execution_count": 36,
      "outputs": []
    },
    {
      "cell_type": "markdown",
      "metadata": {
        "id": "YYLq0bGj_eu9"
      },
      "source": [
        "Exercício 2 - def organize_data(file_name):"
      ]
    },
    {
      "cell_type": "code",
      "metadata": {
        "id": "75KxQYe0_orD"
      },
      "source": [
        "#inserir Código"
      ],
      "execution_count": null,
      "outputs": []
    },
    {
      "cell_type": "markdown",
      "metadata": {
        "id": "mP3Iwz4X_tps"
      },
      "source": [
        "Exercício 3 - def shuffle_split_data(df):\n"
      ]
    },
    {
      "cell_type": "code",
      "metadata": {
        "id": "GlOZuYQa_31D"
      },
      "source": [
        "#inserir Código"
      ],
      "execution_count": null,
      "outputs": []
    },
    {
      "cell_type": "markdown",
      "metadata": {
        "id": "Ke1PAvWN_6rs"
      },
      "source": [
        "Exercício 4 - if __name__ == '__main__':"
      ]
    },
    {
      "cell_type": "code",
      "metadata": {
        "id": "jlaF9VbvACdE"
      },
      "source": [
        "#inserir Código"
      ],
      "execution_count": null,
      "outputs": []
    }
  ]
}