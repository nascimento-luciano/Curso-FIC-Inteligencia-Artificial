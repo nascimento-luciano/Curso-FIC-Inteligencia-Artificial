{
  "nbformat": 4,
  "nbformat_minor": 0,
  "metadata": {
    "colab": {
      "name": "Atividade-1-FIC.ipynb",
      "provenance": [],
      "collapsed_sections": [],
      "authorship_tag": "ABX9TyPiXRA7+tiNeBtjOInrHrXj",
      "include_colab_link": true
    },
    "kernelspec": {
      "name": "python3",
      "display_name": "Python 3"
    },
    "language_info": {
      "name": "python"
    }
  },
  "cells": [
    {
      "cell_type": "markdown",
      "metadata": {
        "id": "view-in-github",
        "colab_type": "text"
      },
      "source": [
        "<a href=\"https://colab.research.google.com/github/nascimento-luciano/Curso-FIC-Inteligencia-Artificial/blob/main/Atividade_1_FIC.ipynb\" target=\"_parent\"><img src=\"https://colab.research.google.com/assets/colab-badge.svg\" alt=\"Open In Colab\"/></a>"
      ]
    },
    {
      "cell_type": "markdown",
      "metadata": {
        "id": "u4QdJ7DkLPKh"
      },
      "source": [
        "Exercício-1. progressao_aritmetica(a1, r, n)"
      ]
    },
    {
      "cell_type": "code",
      "metadata": {
        "colab": {
          "base_uri": "https://localhost:8080/"
        },
        "id": "0nP1R7FLDodW",
        "outputId": "e419faf6-5291-4a03-bff6-e4c824a72380"
      },
      "source": [
        "\n",
        "a1 =1                             #Primeiro elemento\n",
        "r = 1                             #Razão\n",
        "n = 10                            #Quantos elementos deve existir\n",
        "\n",
        "lista_pa = a1 + (n-1)*r           #Fórmula do termo geral                \n",
        "lista_pa = n + 1\n",
        "\n",
        "for var in range(a1, lista_pa, r):\n",
        "    print(var)\n",
        "    \n"
      ],
      "execution_count": null,
      "outputs": [
        {
          "output_type": "stream",
          "name": "stdout",
          "text": [
            "1\n",
            "2\n",
            "3\n",
            "4\n",
            "5\n",
            "6\n",
            "7\n",
            "8\n",
            "9\n",
            "10\n"
          ]
        }
      ]
    },
    {
      "cell_type": "markdown",
      "metadata": {
        "id": "MsqYbiYfWmqW"
      },
      "source": [
        "Exercício-2. soma_pa(a1, r, n)"
      ]
    },
    {
      "cell_type": "code",
      "metadata": {
        "id": "HHs17OmQSXsZ"
      },
      "source": [
        "soma = 0 \n",
        "a1 =1                             #Primeiro elemento\n",
        "r = 1                             #Razão\n",
        "n = 10                            #Quantos elementos deve existir\n",
        "\n",
        "def somapa(a1,r,n):\n",
        "    an = a1 + (n-1)*r             #n-ésimo termo;\n",
        "    soma = n*(a1+an)/2            #soma dos n primeiros termos\n",
        "    return range(a1, n)\n",
        "    print(soma, \"Soma de todos os termos: \", soma)"
      ],
      "execution_count": null,
      "outputs": []
    },
    {
      "cell_type": "markdown",
      "metadata": {
        "id": "8JPjTEn7WtXI"
      },
      "source": [
        "Exercício-3. progressao_geometrica(a1, q, n)"
      ]
    },
    {
      "cell_type": "code",
      "metadata": {
        "id": "1VdRmtlsWgUG"
      },
      "source": [
        "pg = []\n",
        "a1 =2                             #Primeiro elemento\n",
        "q = 3                             #Razão\n",
        "n = 4                             #Quantos elementos deve existir\n",
        "\n",
        "def somapg(a1,n,q):\n",
        "    pg = a1*(1-q**n)/(1-q)        #soma dos n primeiros termos\n",
        "    for pg in range(pg):\n",
        "        print(pg)\n",
        "    return pg"
      ],
      "execution_count": 72,
      "outputs": []
    },
    {
      "cell_type": "markdown",
      "metadata": {
        "id": "DmSNH_N7c3CX"
      },
      "source": [
        "Exercício-4. soma_pg(a1, q, n)"
      ]
    },
    {
      "cell_type": "code",
      "metadata": {
        "colab": {
          "base_uri": "https://localhost:8080/",
          "height": 129
        },
        "id": "Hkr_tzigc2wo",
        "outputId": "a23dc8a7-4ffc-438f-9027-acaa28923c6e"
      },
      "source": [
        "\n",
        "    ### Seu código inicia aqui ###\t\n",
        "    #soma = 0\n",
        "    a1= 3                             #Primeiro elemento\n",
        "    q = 3                             #Razão\n",
        "    n = 4                             #Quantos elementos deve existir\n",
        "\n",
        "def somapg(a1,n,q):\n",
        "    pg = a1*(1-q**n)/(1-q)            #soma dos n primeiros termos\n",
        "    for var in range(a1, pg, q):\n",
        "        print(pg)\n",
        "    \n",
        "    ### Seu código termina aqui ###\n",
        "    return soma"
      ],
      "execution_count": null,
      "outputs": [
        {
          "output_type": "error",
          "ename": "IndentationError",
          "evalue": "ignored",
          "traceback": [
            "\u001b[0;36m  File \u001b[0;32m\"<ipython-input-63-31505c59d44e>\"\u001b[0;36m, line \u001b[0;32m4\u001b[0m\n\u001b[0;31m    a1= 3                             #Primeiro elemento\u001b[0m\n\u001b[0m    ^\u001b[0m\n\u001b[0;31mIndentationError\u001b[0m\u001b[0;31m:\u001b[0m unexpected indent\n"
          ]
        }
      ]
    },
    {
      "cell_type": "markdown",
      "metadata": {
        "id": "EjIUbgO5jQlv"
      },
      "source": [
        "Exercício-5. fibonacci(n)"
      ]
    },
    {
      "cell_type": "code",
      "metadata": {
        "id": "l44zWIVfjQCQ",
        "colab": {
          "base_uri": "https://localhost:8080/",
          "height": 129
        },
        "outputId": "78fec13a-e8b1-46be-c8c6-5365fa669113"
      },
      "source": [
        "# Programa que mostra a sequência de Fibonacci do n-termos\n",
        "\n",
        "nterms = 10\n",
        "\n",
        "# Primeiro dois termos\n",
        "n1, n2 = 0, 1\n",
        "count = 0\n",
        "\n",
        "# checar se o número de termos é válido\n",
        "if nterms <= 0:\n",
        "   print(\"Entrar com um inteiro positivo\")\n",
        "# if there is only one term, return n1\n",
        "elif nterms == 1:\n",
        "   print(\"Sequência Fibonacci\",nterms,\":\")\n",
        "   print(n1)\n",
        "# generate fibonacci sequence\n",
        "else:\n",
        "   print(\"Sequência Fibonacci:\")\n",
        "   while count < nterms:\n",
        "       print(n1)\n",
        "       nth = n1 + n2\n",
        "       # Atualização de valores\n",
        "       n1 = n2\n",
        "       n2 = nth\n",
        "       count += 1"
      ],
      "execution_count": 73,
      "outputs": [
        {
          "output_type": "error",
          "ename": "SyntaxError",
          "evalue": "ignored",
          "traceback": [
            "\u001b[0;36m  File \u001b[0;32m\"<ipython-input-73-a345bed2594c>\"\u001b[0;36m, line \u001b[0;32m26\u001b[0m\n\u001b[0;31m    return fib\u001b[0m\n\u001b[0m    ^\u001b[0m\n\u001b[0;31mSyntaxError\u001b[0m\u001b[0;31m:\u001b[0m 'return' outside function\n"
          ]
        }
      ]
    },
    {
      "cell_type": "markdown",
      "metadata": {
        "id": "8stuZeZjjqIY"
      },
      "source": [
        "Exercício-6. soma_fibonacci(n)"
      ]
    },
    {
      "cell_type": "code",
      "metadata": {
        "id": "Be4U42lMjp1X"
      },
      "source": [
        ""
      ],
      "execution_count": null,
      "outputs": []
    },
    {
      "cell_type": "markdown",
      "metadata": {
        "id": "hRh_DmyBjt43"
      },
      "source": [
        "Exercício-7. primo(n)"
      ]
    },
    {
      "cell_type": "code",
      "metadata": {
        "id": "3xcdc0QXjxDw"
      },
      "source": [
        ""
      ],
      "execution_count": null,
      "outputs": []
    },
    {
      "cell_type": "markdown",
      "metadata": {
        "id": "zcGW8UbXjxpB"
      },
      "source": [
        "Exercício-8. fit_linear(x, y)"
      ]
    },
    {
      "cell_type": "code",
      "metadata": {
        "id": "3NRtYZ2sm4_j"
      },
      "source": [
        ""
      ],
      "execution_count": null,
      "outputs": []
    }
  ]
}