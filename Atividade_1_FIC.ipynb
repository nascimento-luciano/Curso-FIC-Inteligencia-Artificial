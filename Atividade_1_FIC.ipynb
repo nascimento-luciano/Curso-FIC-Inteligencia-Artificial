{
  "nbformat": 4,
  "nbformat_minor": 0,
  "metadata": {
    "colab": {
      "name": "Atividade-1-FIC.ipynb",
      "provenance": [],
      "collapsed_sections": [],
      "authorship_tag": "ABX9TyPx9Qkb3cPLQZ4xpsjj6Nt9",
      "include_colab_link": true
    },
    "kernelspec": {
      "name": "python3",
      "display_name": "Python 3"
    },
    "language_info": {
      "name": "python"
    }
  },
  "cells": [
    {
      "cell_type": "markdown",
      "metadata": {
        "id": "view-in-github",
        "colab_type": "text"
      },
      "source": [
        "<a href=\"https://colab.research.google.com/github/nascimento-luciano/Curso-FIC-Inteligencia-Artificial/blob/main/Atividade_1_FIC.ipynb\" target=\"_parent\"><img src=\"https://colab.research.google.com/assets/colab-badge.svg\" alt=\"Open In Colab\"/></a>"
      ]
    },
    {
      "cell_type": "markdown",
      "metadata": {
        "id": "u4QdJ7DkLPKh"
      },
      "source": [
        "Exercício-1. progressao_aritmetica(a1, r, n)"
      ]
    },
    {
      "cell_type": "code",
      "metadata": {
        "id": "0nP1R7FLDodW"
      },
      "source": [
        "\n",
        "a1 =1                             #Primeiro elemento\n",
        "r = 2                             #Razão\n",
        "n = 10                            #Quantos elementos deve existir\n",
        "\n",
        "lista_pa = a1 + (n-1)*r           #Fórmula do termo geral                \n",
        "lista_pa = n + 1\n",
        "\n",
        "for var in range(a1, lista_pa, r):\n",
        "    print(var)\n",
        "    \n"
      ],
      "execution_count": null,
      "outputs": []
    },
    {
      "cell_type": "markdown",
      "metadata": {
        "id": "MsqYbiYfWmqW"
      },
      "source": [
        "Exercício-2. soma_pa(a1, r, n)"
      ]
    },
    {
      "cell_type": "code",
      "metadata": {
        "id": "HHs17OmQSXsZ"
      },
      "source": [
        "\n",
        "a1 =1                             #Primeiro elemento\n",
        "r = 1                             #Razão\n",
        "n = 10                            #Quantos elementos deve existir\n",
        "\n",
        "def somapa(a1,r,n):\n",
        "    an = a1 + (n-1)*r             #n-ésimo termo;\n",
        "    soma = [n*(a1+an)]/2          #soma dos n primeiros termos\n",
        "    for var in range(soma):\n",
        "        print(var)"
      ],
      "execution_count": null,
      "outputs": []
    },
    {
      "cell_type": "markdown",
      "metadata": {
        "id": "8JPjTEn7WtXI"
      },
      "source": [
        "Exercício-3. progressao_geometrica(a1, q, n)"
      ]
    },
    {
      "cell_type": "code",
      "metadata": {
        "id": "1VdRmtlsWgUG"
      },
      "source": [
        "a1 = 1                            #Primeiro elemento\n",
        "q = 2                             #Razão\n",
        "n = 10                            #Quantos elementos deve existir\n",
        "\n",
        "pg = a1*(q**n - 1)/(q-1)          #Fórmula do termo geral                \n",
        "pg = n + 1\n",
        "\n",
        "for var in range(a1, pg, r):\n",
        "    print(var)"
      ],
      "execution_count": null,
      "outputs": []
    },
    {
      "cell_type": "markdown",
      "metadata": {
        "id": "DmSNH_N7c3CX"
      },
      "source": [
        "Exercício-4. soma_pg(a1, q, n)"
      ]
    },
    {
      "cell_type": "code",
      "metadata": {
        "id": "Hkr_tzigc2wo"
      },
      "source": [
        "    a1= 1                             #Primeiro elemento\n",
        "    q = 2                             #Razão\n",
        "    n = 10                            #Quantos elementos deve existir\n",
        "\n",
        "def somapg(a1, n, q):\n",
        "    #soma = a1*(-1+q**n)/(-1+q)        #soma dos n primeiros termos\n",
        "      for var in range(a1, somapg, q):\n",
        "        print(\"somapg=\", somapg)"
      ],
      "execution_count": null,
      "outputs": []
    },
    {
      "cell_type": "markdown",
      "metadata": {
        "id": "EjIUbgO5jQlv"
      },
      "source": [
        "Exercício-5. fibonacci(n)"
      ]
    },
    {
      "cell_type": "code",
      "metadata": {
        "id": "l44zWIVfjQCQ"
      },
      "source": [
        "# Programa que mostra a sequência de Fibonacci do n-termos\n",
        "\n",
        "nterms = 10\n",
        "\n",
        "# Primeiro dois termos\n",
        "n1, n2 = 0, 1\n",
        "count = 0\n",
        "\n",
        "# checar se o número de termos é válido\n",
        "if nterms <= 0:\n",
        "   print(\"Entrar com um inteiro positivo\")\n",
        "# Se há apenas um termo, returne para n1\n",
        "elif nterms == 1:\n",
        "   print(\"Sequência Fibonacci\",nterms,\":\")\n",
        "   print(n1)\n",
        "# Gera a sequência de Fibonacci\n",
        "else:\n",
        "   print(\"Sequência Fibonacci:\")\n",
        "   while count < nterms:\n",
        "       print(n1)\n",
        "       nth = n1 + n2\n",
        "       # Atualização de valores\n",
        "       n1 = n2\n",
        "       n2 = nth\n",
        "       count += 1"
      ],
      "execution_count": null,
      "outputs": []
    },
    {
      "cell_type": "markdown",
      "metadata": {
        "id": "8stuZeZjjqIY"
      },
      "source": [
        "Exercício-6. soma_fibonacci(n)"
      ]
    },
    {
      "cell_type": "code",
      "metadata": {
        "id": "Be4U42lMjp1X"
      },
      "source": [
        "n = int(input(\"Que termo deseja encontrar: \"))\n",
        "ultimo=1\n",
        "penultimo=1\n",
        "\n",
        "\n",
        "if (n==1) or (n==2):\n",
        "    print(\"1\")\n",
        "else:\n",
        "    count=3\n",
        "    while count <= n:\n",
        "        termo = ultimo + penultimo\n",
        "        penultimo = ultimo\n",
        "        ultimo = termo\n",
        "        count += 1\n",
        "    print(termo)"
      ],
      "execution_count": null,
      "outputs": []
    },
    {
      "cell_type": "markdown",
      "metadata": {
        "id": "hRh_DmyBjt43"
      },
      "source": [
        "Exercício-7. primo(n)"
      ]
    },
    {
      "cell_type": "code",
      "metadata": {
        "id": "3xcdc0QXjxDw"
      },
      "source": [
        "n = int(input(\"Verificar numeros primos ate: \"))\n",
        "mult=0\n",
        "\n",
        "for count in range(2,n):\n",
        "    if (n % count == 0):\n",
        "        print(\"Múltiplo de\",count)\n",
        "        mult += 1\n",
        "\n",
        "if(mult==0):\n",
        "    print(\"É primo\")\n",
        "else:\n",
        "    print(\"Tem\",mult,\" múltiplos acima de 2 e abaixo de\",n)"
      ],
      "execution_count": null,
      "outputs": []
    },
    {
      "cell_type": "markdown",
      "metadata": {
        "id": "zcGW8UbXjxpB"
      },
      "source": [
        "Exercício-8. fit_linear(x, y)"
      ]
    },
    {
      "cell_type": "code",
      "metadata": {
        "id": "3NRtYZ2sm4_j"
      },
      "source": [
        ""
      ],
      "execution_count": 11,
      "outputs": []
    },
    {
      "cell_type": "markdown",
      "metadata": {
        "id": "dsa16Nz-HXCL"
      },
      "source": [
        "Todas as Atividades - Incompleto"
      ]
    }
  ]
}