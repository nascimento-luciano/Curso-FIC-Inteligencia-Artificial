{
  "nbformat": 4,
  "nbformat_minor": 0,
  "metadata": {
    "colab": {
      "name": "Atividade-1-FIC.ipynb",
      "provenance": [],
      "collapsed_sections": [],
      "authorship_tag": "ABX9TyMcroXfNWMAezEqDuzg1KON",
      "include_colab_link": true
    },
    "kernelspec": {
      "display_name": "Python 3",
      "name": "python3"
    },
    "language_info": {
      "name": "python"
    }
  },
  "cells": [
    {
      "cell_type": "markdown",
      "metadata": {
        "id": "view-in-github",
        "colab_type": "text"
      },
      "source": [
        "<a href=\"https://colab.research.google.com/github/nascimento-luciano/Curso-FIC-Inteligencia-Artificial/blob/main/Atividade_1_FIC.ipynb\" target=\"_parent\"><img src=\"https://colab.research.google.com/assets/colab-badge.svg\" alt=\"Open In Colab\"/></a>"
      ]
    },
    {
      "cell_type": "markdown",
      "metadata": {
        "id": "u4QdJ7DkLPKh"
      },
      "source": [
        "Exercício-1. progressao_aritmetica(a1, r, n)"
      ]
    },
    {
      "cell_type": "code",
      "metadata": {
        "colab": {
          "base_uri": "https://localhost:8080/"
        },
        "id": "0nP1R7FLDodW",
        "outputId": "0411ee09-2210-4efa-fdc1-54ad963cface"
      },
      "source": [
        "\n",
        "a1 =1                             #Primeiro elemento\n",
        "r = 2                             #Razão\n",
        "n = 10                            #Quantos elementos deve existir\n",
        "\n",
        "lista_pa = a1 + (n-1)*r           #Fórmula do termo geral                \n",
        "lista_pa = n + 1\n",
        "\n",
        "for var in range(a1, lista_pa, r):\n",
        "    print(var)\n",
        "    \n"
      ],
      "execution_count": 2,
      "outputs": [
        {
          "output_type": "stream",
          "name": "stdout",
          "text": [
            "1\n",
            "3\n",
            "5\n",
            "7\n",
            "9\n"
          ]
        }
      ]
    },
    {
      "cell_type": "markdown",
      "metadata": {
        "id": "MsqYbiYfWmqW"
      },
      "source": [
        "Exercício-2. soma_pa(a1, r, n)"
      ]
    },
    {
      "cell_type": "code",
      "metadata": {
        "id": "HHs17OmQSXsZ"
      },
      "source": [
        "import numpy as np\n",
        "a1 =1                             #Primeiro elemento\n",
        "r = 1                             #Razão\n",
        "n = 7                            #Quantos elementos deve existir\n",
        "\n",
        "def somapa(a1,r,n):\n",
        "    an = a1 + (n-1)*r             #n-ésimo termo;\n",
        "    soma = [n*(a1+an)]/2          #soma dos n primeiros termos\n",
        "    for i in np.arrange(a1, soma, r):\n",
        "        print(\"soma=\", soma)"
      ],
      "execution_count": 41,
      "outputs": []
    },
    {
      "cell_type": "markdown",
      "metadata": {
        "id": "8JPjTEn7WtXI"
      },
      "source": [
        "Exercício-3. progressao_geometrica(a1, q, n)"
      ]
    },
    {
      "cell_type": "code",
      "metadata": {
        "colab": {
          "base_uri": "https://localhost:8080/"
        },
        "id": "1VdRmtlsWgUG",
        "outputId": "a443ec22-710b-4611-b5e1-d321d13f99c3"
      },
      "source": [
        "a1 = 3                            #Primeiro elemento\n",
        "q =  5                            #Razão\n",
        "n = 20                            #Quantos elementos deve existir\n",
        "\n",
        "pg = a1*(q**n - 1)/(q-1)         #Fórmula do termo geral                \n",
        "pg = n + 1\n",
        "\n",
        "for var in range(a1, pg, q):\n",
        "    print(var)"
      ],
      "execution_count": 31,
      "outputs": [
        {
          "output_type": "stream",
          "name": "stdout",
          "text": [
            "3\n",
            "8\n",
            "13\n",
            "18\n"
          ]
        }
      ]
    },
    {
      "cell_type": "markdown",
      "metadata": {
        "id": "DmSNH_N7c3CX"
      },
      "source": [
        "Exercício-4. soma_pg(a1, q, n)"
      ]
    },
    {
      "cell_type": "code",
      "metadata": {
        "colab": {
          "base_uri": "https://localhost:8080/"
        },
        "id": "Hkr_tzigc2wo",
        "outputId": "2513e387-bfa5-43a3-c607-bbe10f1f0a6b"
      },
      "source": [
        "import numpy as np\n",
        "a1= 1                             #Primeiro elemento\n",
        "q = 2                             #Razão\n",
        "n = 3                           #Quantos elementos deve existir\n",
        "\n",
        "#def somapg(a1, n, q):\n",
        "soma = a1*(-1+q**n)/(-1+q)        #soma dos n primeiros termos\n",
        "for i in np.arange(soma):\n",
        "        print(\"soma=\", soma)"
      ],
      "execution_count": 44,
      "outputs": [
        {
          "output_type": "stream",
          "name": "stdout",
          "text": [
            "soma= 7.0\n",
            "soma= 7.0\n",
            "soma= 7.0\n",
            "soma= 7.0\n",
            "soma= 7.0\n",
            "soma= 7.0\n",
            "soma= 7.0\n"
          ]
        }
      ]
    },
    {
      "cell_type": "markdown",
      "metadata": {
        "id": "EjIUbgO5jQlv"
      },
      "source": [
        "Exercício-5. fibonacci(n)"
      ]
    },
    {
      "cell_type": "code",
      "metadata": {
        "colab": {
          "base_uri": "https://localhost:8080/"
        },
        "id": "l44zWIVfjQCQ",
        "outputId": "72a677bb-6278-4052-a7d1-0b4245205aa6"
      },
      "source": [
        "# Programa que mostra a sequência de Fibonacci do n-termos\n",
        "\n",
        "nterms = 10\n",
        "\n",
        "# Primeiro dois termos\n",
        "n1, n2 = 0, 1\n",
        "count = 0\n",
        "\n",
        "# checar se o número de termos é válido\n",
        "if nterms <= 0:\n",
        "   print(\"Entrar com um inteiro positivo\")\n",
        "# Se há apenas um termo, returne para n1\n",
        "elif nterms == 1:\n",
        "   print(\"Sequência Fibonacci\",nterms,\":\")\n",
        "   print(n1)\n",
        "# Gera a sequência de Fibonacci\n",
        "else:\n",
        "   print(\"Sequência Fibonacci:\")\n",
        "   while count < nterms:\n",
        "       print(n1)\n",
        "       nth = n1 + n2\n",
        "       # Atualização de valores\n",
        "       n1 = n2\n",
        "       n2 = nth\n",
        "       count += 1"
      ],
      "execution_count": 32,
      "outputs": [
        {
          "output_type": "stream",
          "name": "stdout",
          "text": [
            "Sequência Fibonacci:\n",
            "0\n",
            "1\n",
            "1\n",
            "2\n",
            "3\n",
            "5\n",
            "8\n",
            "13\n",
            "21\n",
            "34\n"
          ]
        }
      ]
    },
    {
      "cell_type": "markdown",
      "metadata": {
        "id": "8stuZeZjjqIY"
      },
      "source": [
        "Exercício-6. soma_fibonacci(n)"
      ]
    },
    {
      "cell_type": "code",
      "metadata": {
        "colab": {
          "base_uri": "https://localhost:8080/"
        },
        "id": "Be4U42lMjp1X",
        "outputId": "c669f8ce-ee05-40d3-c76b-32298e70d734"
      },
      "source": [
        "#n = int(input(\"Que termo deseja encontrar: \"))\n",
        "n = 7\n",
        "ultimo=1\n",
        "penultimo=1\n",
        "\n",
        "\n",
        "if (n==1) or (n==2):\n",
        "    print(\"1\")\n",
        "else:\n",
        "    count=3\n",
        "    while count <= n:\n",
        "        termo = ultimo + penultimo\n",
        "        penultimo = ultimo\n",
        "        ultimo = termo\n",
        "        count += 1\n",
        "    print(termo)"
      ],
      "execution_count": 36,
      "outputs": [
        {
          "output_type": "stream",
          "name": "stdout",
          "text": [
            "13\n"
          ]
        }
      ]
    },
    {
      "cell_type": "markdown",
      "metadata": {
        "id": "hRh_DmyBjt43"
      },
      "source": [
        "Exercício-7. primo(n)"
      ]
    },
    {
      "cell_type": "code",
      "metadata": {
        "colab": {
          "base_uri": "https://localhost:8080/"
        },
        "id": "3xcdc0QXjxDw",
        "outputId": "d254cb33-a1e0-4c6e-e122-09be44f33340"
      },
      "source": [
        "#n = int(input(\"Verificar numeros primos ate: \"))\n",
        "n = 7\n",
        "mult=0\n",
        "\n",
        "for count in range(2,n):\n",
        "    if (n % count == 0):\n",
        "        print(\"Múltiplo de\",count)\n",
        "        mult += 1\n",
        "\n",
        "if(mult==0):\n",
        "    print(\"É primo\")\n",
        "else:\n",
        "    print(\"Tem\",mult,\" múltiplos acima de 2 e abaixo de\",n)"
      ],
      "execution_count": 38,
      "outputs": [
        {
          "output_type": "stream",
          "name": "stdout",
          "text": [
            "É primo\n"
          ]
        }
      ]
    },
    {
      "cell_type": "markdown",
      "metadata": {
        "id": "zcGW8UbXjxpB"
      },
      "source": [
        "Exercício-8. fit_linear(x, y)"
      ]
    },
    {
      "cell_type": "code",
      "metadata": {
        "id": "3NRtYZ2sm4_j",
        "colab": {
          "base_uri": "https://localhost:8080/"
        },
        "outputId": "a1df1ef3-c554-4872-ae47-94ce4cf6ee51"
      },
      "source": [
        "#fit_linear([1, 2, 3, 4, 5], [1, 2, 3, 4, 5])\n",
        "# [0, 1]\n",
        "\n",
        "import numpy as np\n",
        "import scipy.linalg as linalg\n",
        "\n",
        "A = np.array([[1, 2, 3], [1, 7, 3], [3, 4, 3]])\n",
        "b = np.array([[1, 3], [2, 5],[7, 6]])\n",
        "y = np.linalg.solve(A, b)\n",
        "#for i in range(A, b):\n",
        "print(y)"
      ],
      "execution_count": 45,
      "outputs": [
        {
          "output_type": "stream",
          "name": "stdout",
          "text": [
            "[[ 2.8         1.1       ]\n",
            " [ 0.2         0.4       ]\n",
            " [-0.73333333  0.36666667]]\n"
          ]
        }
      ]
    }
  ]
}