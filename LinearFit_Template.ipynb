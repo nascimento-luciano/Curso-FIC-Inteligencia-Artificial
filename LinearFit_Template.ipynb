{
  "nbformat": 4,
  "nbformat_minor": 5,
  "metadata": {
    "kernelspec": {
      "display_name": "ml",
      "language": "python",
      "name": "ml"
    },
    "language_info": {
      "codemirror_mode": {
        "name": "ipython",
        "version": 3
      },
      "file_extension": ".py",
      "mimetype": "text/x-python",
      "name": "python",
      "nbconvert_exporter": "python",
      "pygments_lexer": "ipython3",
      "version": "3.9.6"
    },
    "colab": {
      "name": "LinearFit_Template.ipynb",
      "provenance": [],
      "collapsed_sections": [
        "de88f0e2-c7ad-4c2b-953f-3a7b2b1f2a63",
        "95bb5dee-54b3-4e60-a6fe-e868ee67c68a",
        "e564230c-8b62-48db-b2f0-f2f4229226a9"
      ],
      "include_colab_link": true
    }
  },
  "cells": [
    {
      "cell_type": "markdown",
      "metadata": {
        "id": "view-in-github",
        "colab_type": "text"
      },
      "source": [
        "<a href=\"https://colab.research.google.com/github/nascimento-luciano/Curso-FIC-Inteligencia-Artificial/blob/main/LinearFit_Template.ipynb\" target=\"_parent\"><img src=\"https://colab.research.google.com/assets/colab-badge.svg\" alt=\"Open In Colab\"/></a>"
      ]
    },
    {
      "cell_type": "markdown",
      "metadata": {
        "id": "91f52437-73a8-4af1-95a7-c946f455dfd5"
      },
      "source": [
        "# Curso FIC - Aula 03 - Modelos e regressão linear\n",
        "\n",
        "27/09/2021 \n",
        "\n",
        "Piracicaba - SP\n",
        "\n",
        "Gustavo Voltani von Atzingen"
      ],
      "id": "91f52437-73a8-4af1-95a7-c946f455dfd5"
    },
    {
      "cell_type": "markdown",
      "metadata": {
        "id": "440cb062-e6ca-4e56-afde-4a9717acef25"
      },
      "source": [
        "## Tópicos\n",
        "\n",
        "Modelos e regressão linear - base do aprendizado de máquina\n",
        "Core de muitos modelos\n",
        "Simples\n",
        "Tem os conceitos mais importante utilizados nos alg. mais complexos.\n",
        "Pode ser muito poderoso (com boa extração de features)\n",
        "\n",
        "* Pandas e visualizaçao de datasets\n",
        "\n",
        "* Modelo linear 1 variável (peso x altura)\n",
        "\n",
        "* Função custo\n",
        "\n",
        "* Encontrar o mínimo\n",
        "\n",
        "* Gradiente descendente\n",
        "\n",
        "* Mínimos quadrados\n",
        "\n",
        "* Multi-variável\n",
        "    (preço de casas)\n",
        "\n",
        "* Modelos polinomiais - overfit"
      ],
      "id": "440cb062-e6ca-4e56-afde-4a9717acef25"
    },
    {
      "cell_type": "code",
      "metadata": {
        "id": "c17eb0b1-8979-4f44-abb8-530a5c2a9ae4"
      },
      "source": [
        "import sys, os, time\n",
        "import numpy as np\n",
        "import pandas as pd\n",
        "import seaborn as sns\n",
        "from tqdm import tqdm\n",
        "from sklearn import linear_model\n",
        "from sklearn.model_selection import train_test_split\n",
        "from sklearn.datasets import fetch_california_housing, fetch_openml\n",
        "from sklearn.linear_model import LinearRegression\n",
        "from sklearn.metrics import mean_squared_error\n",
        "import plotly.express as px\n",
        "import plotly.graph_objects as go\n",
        "from ipywidgets import interact, interactive, fixed, interact_manual\n",
        "import ipywidgets as widgets\n",
        "pd.options.plotting.backend = \"plotly\""
      ],
      "id": "c17eb0b1-8979-4f44-abb8-530a5c2a9ae4",
      "execution_count": null,
      "outputs": []
    },
    {
      "cell_type": "markdown",
      "metadata": {
        "id": "27311b2d-35ce-493c-a008-dd4eb31f9994"
      },
      "source": [
        "## Modelo Linear - Peso vs Altura"
      ],
      "id": "27311b2d-35ce-493c-a008-dd4eb31f9994"
    },
    {
      "cell_type": "markdown",
      "metadata": {
        "id": "c991aecf-8bb5-43de-be5f-11ccdce01163"
      },
      "source": [
        "Faça o download e extraia o arquivo weight-height.csv para a mesma pasta deste notebook\n",
        "\n",
        "https://www.kaggle.com/mustafaali96/weight-height/download"
      ],
      "id": "c991aecf-8bb5-43de-be5f-11ccdce01163"
    },
    {
      "cell_type": "code",
      "metadata": {
        "id": "02ed6b0b-d86b-4a48-adfe-88ec963f451e"
      },
      "source": [
        "df = pd.read_csv('weight-height.csv')"
      ],
      "id": "02ed6b0b-d86b-4a48-adfe-88ec963f451e",
      "execution_count": null,
      "outputs": []
    },
    {
      "cell_type": "markdown",
      "metadata": {
        "id": "9ffa6709-4692-4bcf-b986-0db67e7b4611"
      },
      "source": [
        "## Visualização dos dados \n",
        "\n",
        "* Pandas \n",
        "* Plotly\n",
        "* Numpy"
      ],
      "id": "9ffa6709-4692-4bcf-b986-0db67e7b4611"
    },
    {
      "cell_type": "code",
      "metadata": {
        "id": "71b38e87-29d3-439a-8dae-63bd2168ee56"
      },
      "source": [
        ""
      ],
      "id": "71b38e87-29d3-439a-8dae-63bd2168ee56",
      "execution_count": null,
      "outputs": []
    },
    {
      "cell_type": "code",
      "metadata": {
        "id": "74d0d04c-12ba-4dca-9575-9cf3259ea99d"
      },
      "source": [
        ""
      ],
      "id": "74d0d04c-12ba-4dca-9575-9cf3259ea99d",
      "execution_count": null,
      "outputs": []
    },
    {
      "cell_type": "code",
      "metadata": {
        "id": "b4176ab9-011d-4f21-a903-9ebf08688cf4"
      },
      "source": [
        ""
      ],
      "id": "b4176ab9-011d-4f21-a903-9ebf08688cf4",
      "execution_count": null,
      "outputs": []
    },
    {
      "cell_type": "code",
      "metadata": {
        "id": "0adfc400-aeee-460f-994d-c35bd94386a7"
      },
      "source": [
        ""
      ],
      "id": "0adfc400-aeee-460f-994d-c35bd94386a7",
      "execution_count": null,
      "outputs": []
    },
    {
      "cell_type": "code",
      "metadata": {
        "id": "4d77fc0e-2946-4579-a04e-c9dd52a220af"
      },
      "source": [
        ""
      ],
      "id": "4d77fc0e-2946-4579-a04e-c9dd52a220af",
      "execution_count": null,
      "outputs": []
    },
    {
      "cell_type": "code",
      "metadata": {
        "id": "927c8662-3855-43eb-ae1d-3db7dd4b2f1c"
      },
      "source": [
        ""
      ],
      "id": "927c8662-3855-43eb-ae1d-3db7dd4b2f1c",
      "execution_count": null,
      "outputs": []
    },
    {
      "cell_type": "markdown",
      "metadata": {
        "id": "038ae871-8620-41c0-8163-d09e565fde11"
      },
      "source": [
        "## Modelo linear"
      ],
      "id": "038ae871-8620-41c0-8163-d09e565fde11"
    },
    {
      "cell_type": "markdown",
      "metadata": {
        "id": "a5b6e002-5eea-4de3-ae96-71c5317401a2"
      },
      "source": [
        "Premissa: Existe uma correlação entre o peso e a altura.\n",
        "\n",
        "Objetivo: Encontrar o melhor valor de A e B pra uma equação que relacione o peso e a altura:\n",
        "\n",
        "<p>&nbsp;</p>\n",
        "\n",
        "$ \\Large y(x) = A + B \\cdot x $\n",
        "\n",
        "<p>&nbsp;</p>\n",
        "\n",
        "$ \\Large P(h) = A + B \\cdot h $\n",
        "\n",
        "Onde: \n",
        "* h = Altura\n",
        "* P(h) = Peso calculado para uma altura conhecida \n",
        "* A e B - Parâmetros da equação linear (kg)"
      ],
      "id": "a5b6e002-5eea-4de3-ae96-71c5317401a2"
    },
    {
      "cell_type": "code",
      "metadata": {
        "id": "ebbbed5e-7ad7-4b4f-9f3f-96b4f4b6babf"
      },
      "source": [
        ""
      ],
      "id": "ebbbed5e-7ad7-4b4f-9f3f-96b4f4b6babf",
      "execution_count": null,
      "outputs": []
    },
    {
      "cell_type": "code",
      "metadata": {
        "id": "724c5ce0-923f-43c2-844d-84a7dedf267e"
      },
      "source": [
        ""
      ],
      "id": "724c5ce0-923f-43c2-844d-84a7dedf267e",
      "execution_count": null,
      "outputs": []
    },
    {
      "cell_type": "code",
      "metadata": {
        "id": "09d87a39-b7d1-41d2-992e-cf0cded48f97"
      },
      "source": [
        ""
      ],
      "id": "09d87a39-b7d1-41d2-992e-cf0cded48f97",
      "execution_count": null,
      "outputs": []
    },
    {
      "cell_type": "code",
      "metadata": {
        "id": "61f226b7-0b82-407d-81ac-1f6dfe8fa158"
      },
      "source": [
        ""
      ],
      "id": "61f226b7-0b82-407d-81ac-1f6dfe8fa158",
      "execution_count": null,
      "outputs": []
    },
    {
      "cell_type": "code",
      "metadata": {
        "id": "745d8e2c-7905-413b-91f7-6ebaae797064"
      },
      "source": [
        ""
      ],
      "id": "745d8e2c-7905-413b-91f7-6ebaae797064",
      "execution_count": null,
      "outputs": []
    },
    {
      "cell_type": "code",
      "metadata": {
        "id": "320578c2-b65c-4d03-a423-ec1ad4727f31"
      },
      "source": [
        ""
      ],
      "id": "320578c2-b65c-4d03-a423-ec1ad4727f31",
      "execution_count": null,
      "outputs": []
    },
    {
      "cell_type": "code",
      "metadata": {
        "id": "ada772bc-f458-4185-b24c-62f7bf2f7cdc"
      },
      "source": [
        ""
      ],
      "id": "ada772bc-f458-4185-b24c-62f7bf2f7cdc",
      "execution_count": null,
      "outputs": []
    },
    {
      "cell_type": "markdown",
      "metadata": {
        "id": "05e6e894-b7fa-4838-acda-e2aa6ffa35c9"
      },
      "source": [
        "## Função Custo\n",
        "\n",
        "A função custo é definida por:\n",
        "\n",
        "$$ \\Large J = \\frac{1}{n} \\cdot \\sum_{i=1}^{n}(pred_i - y_i)^2 $$\n",
        "\n",
        "Lembrando que:\n",
        "\n",
        "* $ \\Large  y_i $ é o i-ésimo resultado (dado) do nosso dataset - no nosso caso: peso.\n",
        "\n",
        "* $ \\Large pred_i $ é o resultado predito para o i-éismo dado - no nosso caso o resultado da altura"
      ],
      "id": "05e6e894-b7fa-4838-acda-e2aa6ffa35c9"
    },
    {
      "cell_type": "code",
      "metadata": {
        "id": "41d95fb7-6ce2-4427-b85c-964dafcf82ac"
      },
      "source": [
        ""
      ],
      "id": "41d95fb7-6ce2-4427-b85c-964dafcf82ac",
      "execution_count": null,
      "outputs": []
    },
    {
      "cell_type": "code",
      "metadata": {
        "id": "30dd3c04-1c12-478c-ad66-e6cf204e6373"
      },
      "source": [
        ""
      ],
      "id": "30dd3c04-1c12-478c-ad66-e6cf204e6373",
      "execution_count": null,
      "outputs": []
    },
    {
      "cell_type": "code",
      "metadata": {
        "id": "7a22060d-f7c4-4d6d-9a85-cdd501acf80e"
      },
      "source": [
        ""
      ],
      "id": "7a22060d-f7c4-4d6d-9a85-cdd501acf80e",
      "execution_count": null,
      "outputs": []
    },
    {
      "cell_type": "code",
      "metadata": {
        "id": "5b88fcb1-d54d-4664-993d-d0ce721fcf17"
      },
      "source": [
        ""
      ],
      "id": "5b88fcb1-d54d-4664-993d-d0ce721fcf17",
      "execution_count": null,
      "outputs": []
    },
    {
      "cell_type": "code",
      "metadata": {
        "id": "7888e98b-74f5-4955-b7b0-acc784ffcef2"
      },
      "source": [
        ""
      ],
      "id": "7888e98b-74f5-4955-b7b0-acc784ffcef2",
      "execution_count": null,
      "outputs": []
    },
    {
      "cell_type": "code",
      "metadata": {
        "id": "de4144d5-04f0-4534-a2c1-3a1d25ebfa5b"
      },
      "source": [
        ""
      ],
      "id": "de4144d5-04f0-4534-a2c1-3a1d25ebfa5b",
      "execution_count": null,
      "outputs": []
    },
    {
      "cell_type": "code",
      "metadata": {
        "id": "12443d7b-7f8a-4cb3-b2d8-29480cf8ab0a"
      },
      "source": [
        ""
      ],
      "id": "12443d7b-7f8a-4cb3-b2d8-29480cf8ab0a",
      "execution_count": null,
      "outputs": []
    },
    {
      "cell_type": "code",
      "metadata": {
        "id": "53402c2a-ae97-4006-b04d-224309b9b7e6"
      },
      "source": [
        ""
      ],
      "id": "53402c2a-ae97-4006-b04d-224309b9b7e6",
      "execution_count": null,
      "outputs": []
    },
    {
      "cell_type": "markdown",
      "metadata": {
        "id": "2d4b0fda-725c-49c3-90db-dc7da7ae7ea3"
      },
      "source": [
        "## Problema de Otimização: Como encontrar o melhor A e B ?\n",
        "\n",
        "* Mínimos quadrados\n",
        "\n",
        "* Força Bruta\n",
        "\n",
        "* Gradiente descendente"
      ],
      "id": "2d4b0fda-725c-49c3-90db-dc7da7ae7ea3"
    },
    {
      "cell_type": "markdown",
      "metadata": {
        "id": "de88f0e2-c7ad-4c2b-953f-3a7b2b1f2a63"
      },
      "source": [
        "### Mínimos Quadrados:\n",
        "\n",
        "\n",
        "Supondo: $$ \\Large y(x) = A + B \\cdot x $$\n",
        "\n",
        "<p>&nbsp;</p>\n",
        "\n",
        "Temos: $$ \\Large B = \\frac{n \\sum x_i y_i - \\sum x_i \\cdot \\sum y_i}{n \\sum x_i^2 - (\\sum x_i)^2} $$\n",
        "\n",
        "<p>&nbsp;</p>\n",
        "\n",
        "$$ \\Large A = \\frac{\\sum y_i - B \\sum x_i}{n} $$"
      ],
      "id": "de88f0e2-c7ad-4c2b-953f-3a7b2b1f2a63"
    },
    {
      "cell_type": "code",
      "metadata": {
        "id": "d60122f7-6600-422e-86f4-6fb7f6041c0b"
      },
      "source": [
        ""
      ],
      "id": "d60122f7-6600-422e-86f4-6fb7f6041c0b",
      "execution_count": null,
      "outputs": []
    },
    {
      "cell_type": "code",
      "metadata": {
        "id": "cdc02bd2-870d-4e8b-b2bd-88f5e142a052"
      },
      "source": [
        ""
      ],
      "id": "cdc02bd2-870d-4e8b-b2bd-88f5e142a052",
      "execution_count": null,
      "outputs": []
    },
    {
      "cell_type": "code",
      "metadata": {
        "id": "0c37e6aa-381f-4467-9df9-89d3f40f07b2"
      },
      "source": [
        ""
      ],
      "id": "0c37e6aa-381f-4467-9df9-89d3f40f07b2",
      "execution_count": null,
      "outputs": []
    },
    {
      "cell_type": "code",
      "metadata": {
        "id": "a42bacdf-e9bd-439e-9041-05ea1efebbee"
      },
      "source": [
        ""
      ],
      "id": "a42bacdf-e9bd-439e-9041-05ea1efebbee",
      "execution_count": null,
      "outputs": []
    },
    {
      "cell_type": "code",
      "metadata": {
        "id": "9fd6a27a-c19d-46e7-8b60-95e950a5a516"
      },
      "source": [
        ""
      ],
      "id": "9fd6a27a-c19d-46e7-8b60-95e950a5a516",
      "execution_count": null,
      "outputs": []
    },
    {
      "cell_type": "code",
      "metadata": {
        "id": "1d40af1c-4c2f-497a-aef2-b372a3b5483a"
      },
      "source": [
        ""
      ],
      "id": "1d40af1c-4c2f-497a-aef2-b372a3b5483a",
      "execution_count": null,
      "outputs": []
    },
    {
      "cell_type": "code",
      "metadata": {
        "id": "6860a93a-9ce3-41eb-b018-e0afbe939f28"
      },
      "source": [
        ""
      ],
      "id": "6860a93a-9ce3-41eb-b018-e0afbe939f28",
      "execution_count": null,
      "outputs": []
    },
    {
      "cell_type": "code",
      "metadata": {
        "id": "477bc1fd-5dc7-4585-b1ad-72a07233d617"
      },
      "source": [
        ""
      ],
      "id": "477bc1fd-5dc7-4585-b1ad-72a07233d617",
      "execution_count": null,
      "outputs": []
    },
    {
      "cell_type": "markdown",
      "metadata": {
        "id": "95bb5dee-54b3-4e60-a6fe-e868ee67c68a"
      },
      "source": [
        "### Força Bruta"
      ],
      "id": "95bb5dee-54b3-4e60-a6fe-e868ee67c68a"
    },
    {
      "cell_type": "code",
      "metadata": {
        "id": "41750598-b2fc-4ec5-91a4-9cd8bf651a77"
      },
      "source": [
        ""
      ],
      "id": "41750598-b2fc-4ec5-91a4-9cd8bf651a77",
      "execution_count": null,
      "outputs": []
    },
    {
      "cell_type": "code",
      "metadata": {
        "id": "62399c58-afe2-404f-8f28-85b562465c55"
      },
      "source": [
        ""
      ],
      "id": "62399c58-afe2-404f-8f28-85b562465c55",
      "execution_count": null,
      "outputs": []
    },
    {
      "cell_type": "code",
      "metadata": {
        "id": "66fef665-bd5e-4e63-b256-28769187a447"
      },
      "source": [
        ""
      ],
      "id": "66fef665-bd5e-4e63-b256-28769187a447",
      "execution_count": null,
      "outputs": []
    },
    {
      "cell_type": "code",
      "metadata": {
        "id": "6ac34c26-5496-4d8c-b74a-56c6f079e0c1"
      },
      "source": [
        ""
      ],
      "id": "6ac34c26-5496-4d8c-b74a-56c6f079e0c1",
      "execution_count": null,
      "outputs": []
    },
    {
      "cell_type": "code",
      "metadata": {
        "id": "57316640-cdd1-403e-98a9-839770001a11"
      },
      "source": [
        ""
      ],
      "id": "57316640-cdd1-403e-98a9-839770001a11",
      "execution_count": null,
      "outputs": []
    },
    {
      "cell_type": "code",
      "metadata": {
        "id": "77f0c554-faec-413e-9479-41cadba80ae9"
      },
      "source": [
        ""
      ],
      "id": "77f0c554-faec-413e-9479-41cadba80ae9",
      "execution_count": null,
      "outputs": []
    },
    {
      "cell_type": "markdown",
      "metadata": {
        "id": "e564230c-8b62-48db-b2f0-f2f4229226a9"
      },
      "source": [
        "### Gradiente Descendente"
      ],
      "id": "e564230c-8b62-48db-b2f0-f2f4229226a9"
    },
    {
      "cell_type": "code",
      "metadata": {
        "id": "eafd9304-9611-4c5e-926a-b0f1d6f04e83"
      },
      "source": [
        ""
      ],
      "id": "eafd9304-9611-4c5e-926a-b0f1d6f04e83",
      "execution_count": null,
      "outputs": []
    },
    {
      "cell_type": "code",
      "metadata": {
        "id": "cc35dd35-ff56-4119-88d1-e961e38a1be2"
      },
      "source": [
        ""
      ],
      "id": "cc35dd35-ff56-4119-88d1-e961e38a1be2",
      "execution_count": null,
      "outputs": []
    },
    {
      "cell_type": "code",
      "metadata": {
        "id": "70cda333-e0a8-4b20-80b9-4e56cca10ea7"
      },
      "source": [
        ""
      ],
      "id": "70cda333-e0a8-4b20-80b9-4e56cca10ea7",
      "execution_count": null,
      "outputs": []
    },
    {
      "cell_type": "code",
      "metadata": {
        "id": "e1f7dd91-cd94-41c2-aec5-2497ed3a885b"
      },
      "source": [
        ""
      ],
      "id": "e1f7dd91-cd94-41c2-aec5-2497ed3a885b",
      "execution_count": null,
      "outputs": []
    },
    {
      "cell_type": "code",
      "metadata": {
        "id": "29136b7f-c7eb-4cf2-82c5-aea185722fbb"
      },
      "source": [
        ""
      ],
      "id": "29136b7f-c7eb-4cf2-82c5-aea185722fbb",
      "execution_count": null,
      "outputs": []
    },
    {
      "cell_type": "markdown",
      "metadata": {
        "id": "dd61ec62-760d-4af7-88f2-3b52e679f70b"
      },
      "source": [
        "## House Prices"
      ],
      "id": "dd61ec62-760d-4af7-88f2-3b52e679f70b"
    },
    {
      "cell_type": "code",
      "metadata": {
        "id": "0e948752-6f11-498a-b77f-0e22da6e6839"
      },
      "source": [
        "housing = fetch_california_housing()\n",
        "# housing = fetch_openml(name=\"house_prices\", as_frame=True) "
      ],
      "id": "0e948752-6f11-498a-b77f-0e22da6e6839",
      "execution_count": null,
      "outputs": []
    },
    {
      "cell_type": "code",
      "metadata": {
        "id": "4d76acbb-1871-43d8-bf04-658ab5673238"
      },
      "source": [
        ""
      ],
      "id": "4d76acbb-1871-43d8-bf04-658ab5673238",
      "execution_count": null,
      "outputs": []
    },
    {
      "cell_type": "code",
      "metadata": {
        "id": "088f6636-69de-4d58-8600-c71d5bab335e"
      },
      "source": [
        ""
      ],
      "id": "088f6636-69de-4d58-8600-c71d5bab335e",
      "execution_count": null,
      "outputs": []
    },
    {
      "cell_type": "code",
      "metadata": {
        "id": "2f3a168e-e07c-4b5f-ab7f-c43b44c1f5c9"
      },
      "source": [
        ""
      ],
      "id": "2f3a168e-e07c-4b5f-ab7f-c43b44c1f5c9",
      "execution_count": null,
      "outputs": []
    },
    {
      "cell_type": "code",
      "metadata": {
        "id": "6955ea35-deb8-4db4-bccd-26629cd060ce"
      },
      "source": [
        ""
      ],
      "id": "6955ea35-deb8-4db4-bccd-26629cd060ce",
      "execution_count": null,
      "outputs": []
    },
    {
      "cell_type": "code",
      "metadata": {
        "id": "f6cea760-8254-4d4b-991b-1ae008412e03"
      },
      "source": [
        ""
      ],
      "id": "f6cea760-8254-4d4b-991b-1ae008412e03",
      "execution_count": null,
      "outputs": []
    },
    {
      "cell_type": "code",
      "metadata": {
        "id": "eae55b0b-e42b-4b5e-9794-76189701144c"
      },
      "source": [
        ""
      ],
      "id": "eae55b0b-e42b-4b5e-9794-76189701144c",
      "execution_count": null,
      "outputs": []
    },
    {
      "cell_type": "markdown",
      "metadata": {
        "id": "7cb17bd1-9a87-4823-b0e0-d9acae3f1c64"
      },
      "source": [
        "## Referênciase leituras complementares:\n",
        "\n",
        "[Introdução à regressão linear](https://towardsdatascience.com/introduction-to-machine-learning-algorithms-linear-regression-14c4e325882a)\n",
        "\n",
        "[Regrassão linear simples e multivariada](https://towardsdatascience.com/simple-and-multiple-linear-regression-in-python-c928425168f9)\n",
        "\n",
        "[Função Custo e Gradiente Descendente](https://medium.com/@lachlanmiller_52885/machine-learning-week-1-cost-function-gradient-descent-and-univariate-linear-regression-8f5fe69815fd)\n",
        "\n",
        "[Peso vs Atura](https://towardsdatascience.com/machine-learning-project-9-predict-weight-based-on-height-and-gender-9ed47285bcbb)\n",
        "\n",
        "[Prevendo preços das casas](https://towardsdatascience.com/machine-learning-project-predicting-boston-house-prices-with-regression-b4e47493633d)\n",
        "\n",
        "[Modelos Lineares _ Features](https://towardsdatascience.com/staying-competitive-with-linear-models-19444bc3698e)\n",
        "\n",
        "Bibliotecas e outras ferramentas:\n",
        "\n",
        "[ipywidget](https://ipywidgets.readthedocs.io/en/stable/examples/Using%20Interact.html)\n",
        "\n",
        "[plotly](https://plotly.com/python/plotly-express/)\n",
        "\n",
        "[pandas](https://pandas.pydata.org/docs/user_guide/10min.html)\n",
        "\n",
        "[sklenarn - modelos lineares](https://scikit-learn.org/stable/modules/linear_model.html)"
      ],
      "id": "7cb17bd1-9a87-4823-b0e0-d9acae3f1c64"
    }
  ]
}